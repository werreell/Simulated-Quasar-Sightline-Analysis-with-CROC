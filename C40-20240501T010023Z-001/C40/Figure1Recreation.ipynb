{
 "cells": [
  {
   "cell_type": "code",
   "execution_count": 19,
   "id": "c12f5775",
   "metadata": {},
   "outputs": [],
   "source": [
    "import numpy as np\n",
    "import matplotlib.pyplot as plt\n",
    "import pandas as pd\n",
    "import os"
   ]
  },
  {
   "cell_type": "code",
   "execution_count": 31,
   "id": "9b807bef",
   "metadata": {},
   "outputs": [],
   "source": [
    "all_dataframes = []\n",
    "directory = './A'\n",
    "for root, dirs, files in os.walk(directory):\n",
    "    for file in files:\n",
    "        if file.endswith('.res'):\n",
    "            # Construct the full path to the file\n",
    "            file_path = os.path.join(root, file)\n",
    "            # Assuming that the file is formatted like a CSV, read it\n",
    "            df = pd.read_csv(file_path, delimiter=' ')  # Update the delimiter based on the actual format\n",
    "            all_dataframes.append(df)\n",
    "combined_df = pd.concat(all_dataframes, ignore_index=True)"
   ]
  },
  {
   "cell_type": "code",
   "execution_count": 29,
   "id": "94e701cf",
   "metadata": {},
   "outputs": [
    {
     "name": "stdout",
     "output_type": "stream",
     "text": [
      "Index(['#', '<tau>', 'length[km/s]'], dtype='object')\n"
     ]
    }
   ],
   "source": [
    "print(combined_df.columns)"
   ]
  },
  {
   "cell_type": "code",
   "execution_count": 32,
   "id": "ccda1717",
   "metadata": {},
   "outputs": [
    {
     "data": {
      "text/html": [
       "<div>\n",
       "<style scoped>\n",
       "    .dataframe tbody tr th:only-of-type {\n",
       "        vertical-align: middle;\n",
       "    }\n",
       "\n",
       "    .dataframe tbody tr th {\n",
       "        vertical-align: top;\n",
       "    }\n",
       "\n",
       "    .dataframe thead th {\n",
       "        text-align: right;\n",
       "    }\n",
       "</style>\n",
       "<table border=\"1\" class=\"dataframe\">\n",
       "  <thead>\n",
       "    <tr style=\"text-align: right;\">\n",
       "      <th></th>\n",
       "      <th>#</th>\n",
       "      <th>&lt;tau&gt;</th>\n",
       "      <th>length[km/s]</th>\n",
       "    </tr>\n",
       "  </thead>\n",
       "  <tbody>\n",
       "    <tr>\n",
       "      <th>0</th>\n",
       "      <td>0.0000</td>\n",
       "      <td>8450.0</td>\n",
       "      <td>NaN</td>\n",
       "    </tr>\n",
       "    <tr>\n",
       "      <th>1</th>\n",
       "      <td>0.0000</td>\n",
       "      <td>8530.0</td>\n",
       "      <td>NaN</td>\n",
       "    </tr>\n",
       "    <tr>\n",
       "      <th>2</th>\n",
       "      <td>0.0000</td>\n",
       "      <td>8530.0</td>\n",
       "      <td>NaN</td>\n",
       "    </tr>\n",
       "    <tr>\n",
       "      <th>3</th>\n",
       "      <td>0.0000</td>\n",
       "      <td>8620.0</td>\n",
       "      <td>NaN</td>\n",
       "    </tr>\n",
       "    <tr>\n",
       "      <th>4</th>\n",
       "      <td>0.0000</td>\n",
       "      <td>8610.0</td>\n",
       "      <td>NaN</td>\n",
       "    </tr>\n",
       "    <tr>\n",
       "      <th>...</th>\n",
       "      <td>...</td>\n",
       "      <td>...</td>\n",
       "      <td>...</td>\n",
       "    </tr>\n",
       "    <tr>\n",
       "      <th>16995</th>\n",
       "      <td>0.2107</td>\n",
       "      <td>6680.0</td>\n",
       "      <td>NaN</td>\n",
       "    </tr>\n",
       "    <tr>\n",
       "      <th>16996</th>\n",
       "      <td>0.2312</td>\n",
       "      <td>6770.0</td>\n",
       "      <td>NaN</td>\n",
       "    </tr>\n",
       "    <tr>\n",
       "      <th>16997</th>\n",
       "      <td>0.1278</td>\n",
       "      <td>6550.0</td>\n",
       "      <td>NaN</td>\n",
       "    </tr>\n",
       "    <tr>\n",
       "      <th>16998</th>\n",
       "      <td>0.1871</td>\n",
       "      <td>6710.0</td>\n",
       "      <td>NaN</td>\n",
       "    </tr>\n",
       "    <tr>\n",
       "      <th>16999</th>\n",
       "      <td>0.2669</td>\n",
       "      <td>6840.0</td>\n",
       "      <td>NaN</td>\n",
       "    </tr>\n",
       "  </tbody>\n",
       "</table>\n",
       "<p>17000 rows × 3 columns</p>\n",
       "</div>"
      ],
      "text/plain": [
       "            #   <tau>  length[km/s]\n",
       "0      0.0000  8450.0           NaN\n",
       "1      0.0000  8530.0           NaN\n",
       "2      0.0000  8530.0           NaN\n",
       "3      0.0000  8620.0           NaN\n",
       "4      0.0000  8610.0           NaN\n",
       "...       ...     ...           ...\n",
       "16995  0.2107  6680.0           NaN\n",
       "16996  0.2312  6770.0           NaN\n",
       "16997  0.1278  6550.0           NaN\n",
       "16998  0.1871  6710.0           NaN\n",
       "16999  0.2669  6840.0           NaN\n",
       "\n",
       "[17000 rows x 3 columns]"
      ]
     },
     "execution_count": 32,
     "metadata": {},
     "output_type": "execute_result"
    }
   ],
   "source": [
    "combined_df"
   ]
  },
  {
   "cell_type": "code",
   "execution_count": 118,
   "id": "a546306a",
   "metadata": {},
   "outputs": [
    {
     "name": "stdout",
     "output_type": "stream",
     "text": [
      "       tau  length  km_per_s\n",
      "0  0.10530  6750.0       NaN\n",
      "1  0.04347  6850.0       NaN\n",
      "2  0.14710  6850.0       NaN\n",
      "3  0.06153  6940.0       NaN\n",
      "4  0.08112  6930.0       NaN\n"
     ]
    }
   ],
   "source": [
    "import pandas as pd\n",
    "\n",
    "# Sample DataFrame\n",
    "data = combined_df\n",
    "\n",
    "# Rename columns\n",
    "data.rename(columns={'#': 'tau', '<tau>': 'length', 'length[km/s]': 'km_per_s'}, inplace=True)\n",
    "\n",
    "print(data.head())\n",
    "\n",
    "data.drop(columns=['km_per_s'],inplace=True)"
   ]
  },
  {
   "cell_type": "code",
   "execution_count": 119,
   "id": "327405de",
   "metadata": {},
   "outputs": [],
   "source": [
    "#5.1 - 5.3: a = .1644, .1615, .1593 (first)\n",
    "#5.3 - 5.5: a = .1566, .1540 (second)\n",
    "#5.5 - 5.7: a = .1515, .1499 (third)\n",
    "#5.7- 5.9: a = .1476, .1452 (fourth)\n",
    "#5.9 - 6.1 a = .1430, .1400 (fifth)"
   ]
  },
  {
   "cell_type": "code",
   "execution_count": 120,
   "id": "8d297767",
   "metadata": {},
   "outputs": [],
   "source": [
    "all_dataframes = []\n",
    "directory = './A'\n",
    "\n",
    "# Filenames to read\n",
    "target_files = [\"a=0.1644\", \"a=0.1615\", \"a =0.1593\"]\n",
    "\n",
    "for file_name in target_files:\n",
    "    res_file = \"avgflux.x50.res\"\n",
    "    file_path = os.path.join(directory, file_name, res_file)\n",
    "    \n",
    "    if os.path.isfile(file_path):\n",
    "        # Assuming that the file is formatted like a CSV, read it\n",
    "        df = pd.read_csv(file_path, delimiter=' ')  # Update the delimiter based on the actual format\n",
    "        all_dataframes.append(df)\n",
    "\n",
    "combined_df = pd.concat(all_dataframes, ignore_index=True)"
   ]
  },
  {
   "cell_type": "code",
   "execution_count": 121,
   "id": "a3e07b7c",
   "metadata": {},
   "outputs": [
    {
     "name": "stdout",
     "output_type": "stream",
     "text": [
      "      tau  length  km_per_s\n",
      "0  0.2083  6580.0       NaN\n",
      "1  0.1903  6690.0       NaN\n",
      "2  0.2659  6690.0       NaN\n",
      "3  0.1518  6780.0       NaN\n",
      "4  0.1686  6770.0       NaN\n"
     ]
    }
   ],
   "source": [
    "first = combined_df\n",
    "# Rename columns\n",
    "first.rename(columns={'#': 'tau', '<tau>': 'length', 'length[km/s]': 'km_per_s'}, inplace=True)\n",
    "\n",
    "print(first.head())\n",
    "\n",
    "first.drop(columns=['length'],inplace=True)"
   ]
  },
  {
   "cell_type": "code",
   "execution_count": 122,
   "id": "b30ab89a",
   "metadata": {},
   "outputs": [],
   "source": [
    "all_dataframes = []\n",
    "directory = './A'\n",
    "\n",
    "# Filenames to read\n",
    "target_files = [\"a=0.1566\", \"a=0.1544\"]\n",
    "\n",
    "for file_name in target_files:\n",
    "    res_file = \"avgflux.x50.res\"\n",
    "    file_path = os.path.join(directory, file_name, res_file)\n",
    "    \n",
    "    if os.path.isfile(file_path):\n",
    "        # Assuming that the file is formatted like a CSV, read it\n",
    "        df = pd.read_csv(file_path, delimiter=' ')  # Update the delimiter based on the actual format\n",
    "        all_dataframes.append(df)\n",
    "\n",
    "combined_df = pd.concat(all_dataframes, ignore_index=True)"
   ]
  },
  {
   "cell_type": "code",
   "execution_count": 123,
   "id": "e64041f5",
   "metadata": {},
   "outputs": [
    {
     "name": "stdout",
     "output_type": "stream",
     "text": [
      "       tau  length  km_per_s\n",
      "0  0.10530  6750.0       NaN\n",
      "1  0.04347  6850.0       NaN\n",
      "2  0.14710  6850.0       NaN\n",
      "3  0.06153  6940.0       NaN\n",
      "4  0.08112  6930.0       NaN\n"
     ]
    }
   ],
   "source": [
    "second = combined_df\n",
    "second.rename(columns={'#': 'tau', '<tau>': 'length', 'length[km/s]': 'km_per_s'}, inplace=True)\n",
    "\n",
    "print(second.head())\n",
    "\n",
    "#second.drop(columns=['length'],inplace=True)"
   ]
  },
  {
   "cell_type": "code",
   "execution_count": 124,
   "id": "3de4fb32",
   "metadata": {},
   "outputs": [],
   "source": [
    "all_dataframes = []\n",
    "directory = './A'\n",
    "\n",
    "# Filenames to read\n",
    "target_files = [\"a=0.1515\", \"a=0.1499\"]\n",
    "\n",
    "for file_name in target_files:\n",
    "    res_file = \"avgflux.x50.res\"\n",
    "    file_path = os.path.join(directory, file_name, res_file)\n",
    "    \n",
    "    if os.path.isfile(file_path):\n",
    "        # Assuming that the file is formatted like a CSV, read it\n",
    "        df = pd.read_csv(file_path, delimiter=' ')  # Update the delimiter based on the actual format\n",
    "        all_dataframes.append(df)\n",
    "\n",
    "combined_df = pd.concat(all_dataframes, ignore_index=True)"
   ]
  },
  {
   "cell_type": "code",
   "execution_count": 125,
   "id": "84037704",
   "metadata": {},
   "outputs": [
    {
     "name": "stdout",
     "output_type": "stream",
     "text": [
      "       tau  length  km_per_s\n",
      "0  0.05776  6860.0       NaN\n",
      "1  0.04545  6960.0       NaN\n",
      "2  0.08852  6960.0       NaN\n",
      "3  0.02650  7050.0       NaN\n",
      "4  0.04219  7050.0       NaN\n"
     ]
    }
   ],
   "source": [
    "third = combined_df\n",
    "third.rename(columns={'#': 'tau', '<tau>': 'length', 'length[km/s]': 'km_per_s'}, inplace=True)\n",
    "\n",
    "print(third.head())\n",
    "\n",
    "third.drop(columns=['km_per_s'],inplace=True)"
   ]
  },
  {
   "cell_type": "code",
   "execution_count": 126,
   "id": "2a27627b",
   "metadata": {},
   "outputs": [],
   "source": [
    "all_dataframes = []\n",
    "directory = './A'\n",
    "\n",
    "# Filenames to read\n",
    "target_files = [\"a=0.1476\", \"a=0.1452\"]\n",
    "\n",
    "for file_name in target_files:\n",
    "    res_file = \"avgflux.x50.res\"\n",
    "    file_path = os.path.join(directory, file_name, res_file)\n",
    "    \n",
    "    if os.path.isfile(file_path):\n",
    "        # Assuming that the file is formatted like a CSV, read it\n",
    "        df = pd.read_csv(file_path, delimiter=' ')  # Update the delimiter based on the actual format\n",
    "        all_dataframes.append(df)\n",
    "\n",
    "combined_df = pd.concat(all_dataframes, ignore_index=True)"
   ]
  },
  {
   "cell_type": "code",
   "execution_count": 127,
   "id": "f249bb23",
   "metadata": {},
   "outputs": [
    {
     "name": "stdout",
     "output_type": "stream",
     "text": [
      "       tau  length  km_per_s\n",
      "0  0.03174  6950.0       NaN\n",
      "1  0.02263  7050.0       NaN\n",
      "2  0.05432  7050.0       NaN\n",
      "3  0.01617  7140.0       NaN\n",
      "4  0.02129  7140.0       NaN\n"
     ]
    }
   ],
   "source": [
    "fourth = combined_df\n",
    "fourth.rename(columns={'#': 'tau', '<tau>': 'length', 'length[km/s]': 'km_per_s'}, inplace=True)\n",
    "\n",
    "print(fourth.head())\n",
    "fourth.drop(columns=['km_per_s'],inplace=True)"
   ]
  },
  {
   "cell_type": "code",
   "execution_count": 128,
   "id": "1b0e874d",
   "metadata": {},
   "outputs": [],
   "source": [
    "all_dataframes = []\n",
    "directory = './A'\n",
    "\n",
    "# Filenames to read\n",
    "target_files = [\"a=0.1430\", \"a=0.1400\"]\n",
    "\n",
    "for file_name in target_files:\n",
    "    res_file = \"avgflux.x50.res\"\n",
    "    file_path = os.path.join(directory, file_name, res_file)\n",
    "    \n",
    "    if os.path.isfile(file_path):\n",
    "        # Assuming that the file is formatted like a CSV, read it\n",
    "        df = pd.read_csv(file_path, delimiter=' ')  # Update the delimiter based on the actual format\n",
    "        all_dataframes.append(df)\n",
    "\n",
    "combined_df = pd.concat(all_dataframes, ignore_index=True)"
   ]
  },
  {
   "cell_type": "code",
   "execution_count": 129,
   "id": "33c731cb",
   "metadata": {},
   "outputs": [
    {
     "name": "stdout",
     "output_type": "stream",
     "text": [
      "        tau  length  km_per_s\n",
      "0  0.012470  7060.0       NaN\n",
      "1  0.008589  7160.0       NaN\n",
      "2  0.027950  7160.0       NaN\n",
      "3  0.005643  7250.0       NaN\n",
      "4  0.007442  7250.0       NaN\n"
     ]
    }
   ],
   "source": [
    "fifth = combined_df\n",
    "fifth.rename(columns={'#': 'tau', '<tau>': 'length', 'length[km/s]': 'km_per_s'}, inplace=True)\n",
    "\n",
    "print(fifth.head())\n",
    "fifth.drop(columns=['km_per_s'],inplace=True)"
   ]
  },
  {
   "cell_type": "code",
   "execution_count": 130,
   "id": "68a7f21d",
   "metadata": {},
   "outputs": [
    {
     "name": "stdout",
     "output_type": "stream",
     "text": [
      "          tau  probability\n",
      "0     0.20830       0.9110\n",
      "1     0.19030       0.8210\n",
      "2     0.26590       0.9970\n",
      "3     0.15180       0.4820\n",
      "4     0.16860       0.6520\n",
      "...       ...          ...\n",
      "1995  0.14390       0.4015\n",
      "1996  0.15700       0.5265\n",
      "1997  0.07846       0.0255\n",
      "1998  0.12630       0.2290\n",
      "1999  0.18970       0.8165\n",
      "\n",
      "[2000 rows x 2 columns]\n"
     ]
    }
   ],
   "source": [
    "tau_threshold = 40\n",
    "\n",
    "probabilities = []\n",
    "\n",
    "# Iterate over each tau value in the original DataFrame\n",
    "for tau_value in first['tau']:\n",
    "    # Count of tau values <= tau_threshold\n",
    "    count_below_threshold = (first['tau'] <= tau_value).sum()\n",
    "\n",
    "    # Probability calculation\n",
    "    probability = count_below_threshold / len(first)\n",
    "    \n",
    "    # Append the probability to the list\n",
    "    probabilities.append(probability)\n",
    "\n",
    "# Create a new DataFrame with tau values and their corresponding probabilities\n",
    "first_prob = pd.DataFrame({\n",
    "    'tau': first['tau'],\n",
    "    'probability': probabilities\n",
    "})\n",
    "\n",
    "print(first_prob)\n"
   ]
  },
  {
   "cell_type": "code",
   "execution_count": 131,
   "id": "e8a6d889",
   "metadata": {},
   "outputs": [
    {
     "name": "stdout",
     "output_type": "stream",
     "text": [
      "         tau  probability\n",
      "0    0.10530        0.836\n",
      "1    0.04347        0.039\n",
      "2    0.14710        0.993\n",
      "3    0.06153        0.148\n",
      "4    0.08112        0.479\n",
      "..       ...          ...\n",
      "995  0.09163        0.658\n",
      "996  0.09834        0.748\n",
      "997  0.04371        0.041\n",
      "998  0.07622        0.384\n",
      "999  0.12350        0.956\n",
      "\n",
      "[1000 rows x 2 columns]\n"
     ]
    }
   ],
   "source": [
    "print(second_prob)"
   ]
  },
  {
   "cell_type": "code",
   "execution_count": 132,
   "id": "bc164fbb",
   "metadata": {},
   "outputs": [],
   "source": [
    "tau_threshold = 40\n",
    "\n",
    "probabilities = []\n",
    "\n",
    "# Iterate over each tau value in the original DataFrame\n",
    "for tau_value in second['tau']:\n",
    "    # Count of tau values <= tau_threshold\n",
    "    count_below_threshold = (second['tau'] <= tau_value).sum()\n",
    "\n",
    "    # Probability calculation\n",
    "    probability = count_below_threshold / len(second)\n",
    "    \n",
    "    # Append the probability to the list\n",
    "    probabilities.append(probability)\n",
    "\n",
    "# Create a new DataFrame with tau values and their corresponding probabilities\n",
    "second_prob = pd.DataFrame({\n",
    "    'tau': second['tau'],\n",
    "    'probability': probabilities\n",
    "})"
   ]
  },
  {
   "cell_type": "code",
   "execution_count": 133,
   "id": "29ec94d1",
   "metadata": {},
   "outputs": [],
   "source": [
    "tau_threshold = 40\n",
    "\n",
    "probabilities = []\n",
    "\n",
    "# Iterate over each tau value in the original DataFrame\n",
    "for tau_value in third['tau']:\n",
    "    # Count of tau values <= tau_threshold\n",
    "    count_below_threshold = (third['tau'] <= tau_value).sum()\n",
    "\n",
    "    # Probability calculation\n",
    "    probability = count_below_threshold / len(third)\n",
    "    \n",
    "    # Append the probability to the list\n",
    "    probabilities.append(probability)\n",
    "\n",
    "# Create a new DataFrame with tau values and their corresponding probabilities\n",
    "third_prob = pd.DataFrame({\n",
    "    'tau': third['tau'],\n",
    "    'probability': probabilities\n",
    "})"
   ]
  },
  {
   "cell_type": "code",
   "execution_count": 134,
   "id": "3cf11501",
   "metadata": {},
   "outputs": [],
   "source": [
    "tau_threshold = 40\n",
    "\n",
    "probabilities = []\n",
    "\n",
    "# Iterate over each tau value in the original DataFrame\n",
    "for tau_value in fourth['tau']:\n",
    "    # Count of tau values <= tau_threshold\n",
    "    count_below_threshold = (fourth['tau'] <= tau_value).sum()\n",
    "\n",
    "    # Probability calculation\n",
    "    probability = count_below_threshold / len(fourth)\n",
    "    \n",
    "    # Append the probability to the list\n",
    "    probabilities.append(probability)\n",
    "\n",
    "# Create a new DataFrame with tau values and their corresponding probabilities\n",
    "fourth_prob = pd.DataFrame({\n",
    "    'tau': fourth['tau'],\n",
    "    'probability': probabilities\n",
    "})"
   ]
  },
  {
   "cell_type": "code",
   "execution_count": 135,
   "id": "e8a52c24",
   "metadata": {},
   "outputs": [],
   "source": [
    "tau_threshold = 40\n",
    "\n",
    "probabilities = []\n",
    "\n",
    "# Iterate over each tau value in the original DataFrame\n",
    "for tau_value in fifth['tau']:\n",
    "    # Count of tau values <= tau_threshold\n",
    "    count_below_threshold = (fifth['tau'] <= tau_value).sum()\n",
    "\n",
    "    # Probability calculation\n",
    "    probability = count_below_threshold / len(fifth)\n",
    "    \n",
    "    # Append the probability to the list\n",
    "    probabilities.append(probability)\n",
    "\n",
    "# Create a new DataFrame with tau values and their corresponding probabilities\n",
    "fifth_prob = pd.DataFrame({\n",
    "    'tau': fifth['tau'],\n",
    "    'probability': probabilities\n",
    "})"
   ]
  },
  {
   "cell_type": "code",
   "execution_count": 137,
   "id": "d992a3bd",
   "metadata": {},
   "outputs": [
    {
     "data": {
      "text/plain": [
       "Text(0.5, 1.0, '40h^-1 MPh')"
      ]
     },
     "execution_count": 137,
     "metadata": {},
     "output_type": "execute_result"
    },
    {
     "data": {
      "image/png": "[encoded data removed]",
      "text/plain": [
       "<Figure size 1000x500 with 1 Axes>"
      ]
     },
     "metadata": {},
     "output_type": "display_data"
    }
   ],
   "source": [
    "plt.figure(figsize=[10,5])\n",
    "plt.scatter(first_prob['tau'],first_prob['probability'],label=('5.1 < z < 5.3'),linestyle = 'dashed')\n",
    "plt.scatter(second_prob['tau'],second_prob['probability'],label=('5.3 < z < 5.5'))\n",
    "plt.scatter(third_prob['tau'],third_prob['probability'],label=('5.5 < z < 5.7'))\n",
    "plt.scatter(fourth_prob['tau'],fourth_prob['probability'],label = ('5.7 < z < 5.9'))\n",
    "plt.scatter(fifth_prob['tau'],fifth_prob['probability'],label = ('5.9 < z < 6.1'))\n",
    "plt.legend()\n",
    "plt.title('40h^-1 MPh')"
   ]
  },
  {
   "cell_type": "code",
   "execution_count": null,
   "id": "60e8ef20",
   "metadata": {},
   "outputs": [],
   "source": []
  }
 ],
 "metadata": {
  "kernelspec": {
   "display_name": "Python 3 (ipykernel)",
   "language": "python",
   "name": "python3"
  },
  "language_info": {
   "codemirror_mode": {
    "name": "ipython",
    "version": 3
   },
   "file_extension": ".py",
   "mimetype": "text/x-python",
   "name": "python",
   "nbconvert_exporter": "python",
   "pygments_lexer": "ipython3",
   "version": "3.9.13"
  }
 },
 "nbformat": 4,
 "nbformat_minor": 5
}
