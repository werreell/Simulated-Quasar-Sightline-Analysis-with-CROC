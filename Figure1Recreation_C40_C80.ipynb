{
 "cells": [
  {
   "cell_type": "code",
   "execution_count": 2,
   "id": "c12f5775",
   "metadata": {},
   "outputs": [],
   "source": [
    "import numpy as np\n",
    "import matplotlib.pyplot as plt\n",
    "import pandas as pd\n",
    "import os"
   ]
  },
  {
   "cell_type": "code",
   "execution_count": 35,
   "id": "327405de",
   "metadata": {},
   "outputs": [],
   "source": [
    "#5.1 - 5.3: a = .1644, .1615, .1593 (first)\n",
    "#5.3 - 5.5: a = .1566, .1540 (second)\n",
    "#5.5 - 5.7: a = .1515, .1499 (third)\n",
    "#5.7- 5.9: a = .1476, .1452 (fourth)\n",
    "#5.9 - 6.1 a = .1430, .1400 (fifth)"
   ]
  },
  {
   "cell_type": "code",
   "execution_count": 63,
   "id": "daaf2601",
   "metadata": {},
   "outputs": [
    {
     "name": "stdout",
     "output_type": "stream",
     "text": [
      "C:\\Users\\eawer\\Downloads\\C40-20240503T164200Z-001\\C40\\A\\a=0.1644\\avgflux.x50.res\n",
      "C:\\Users\\eawer\\Downloads\\C40-20240503T164200Z-001\\C40\\A\\a=0.1615\\avgflux.x50.res\n",
      "C:\\Users\\eawer\\Downloads\\C40-20240503T164200Z-001\\C40\\A\\a=0.1593\\avgflux.x50.res\n",
      "C:\\Users\\eawer\\Downloads\\C40-20240503T164200Z-001\\C40\\A\\a=0.1590\\avgflux.x50.res\n",
      "C:\\Users\\eawer\\Downloads\\C40-20240503T164200Z-001\\C40\\A\\a=0.1588\\avgflux.x50.res\n",
      "C:\\Users\\eawer\\Downloads\\C40-20240503T164200Z-001\\C40\\B\\a=0.1644\\avgflux.x50.res\n",
      "C:\\Users\\eawer\\Downloads\\C40-20240503T164200Z-001\\C40\\B\\a=0.1615\\avgflux.x50.res\n",
      "C:\\Users\\eawer\\Downloads\\C40-20240503T164200Z-001\\C40\\B\\a=0.1593\\avgflux.x50.res\n",
      "C:\\Users\\eawer\\Downloads\\C40-20240503T164200Z-001\\C40\\B\\a=0.1590\\avgflux.x50.res\n",
      "C:\\Users\\eawer\\Downloads\\C40-20240503T164200Z-001\\C40\\B\\a=0.1588\\avgflux.x50.res\n",
      "C:\\Users\\eawer\\Downloads\\C40-20240503T164200Z-001\\C40\\C\\a=0.1644\\avgflux.x50.res\n",
      "C:\\Users\\eawer\\Downloads\\C40-20240503T164200Z-001\\C40\\C\\a=0.1615\\avgflux.x50.res\n",
      "C:\\Users\\eawer\\Downloads\\C40-20240503T164200Z-001\\C40\\C\\a=0.1593\\avgflux.x50.res\n",
      "C:\\Users\\eawer\\Downloads\\C40-20240503T164200Z-001\\C40\\C\\a=0.1590\\avgflux.x50.res\n",
      "C:\\Users\\eawer\\Downloads\\C40-20240503T164200Z-001\\C40\\C\\a=0.1588\\avgflux.x50.res\n",
      "C:\\Users\\eawer\\Downloads\\C40-20240503T164200Z-001\\C40\\F\\a=0.1644\\avgflux.x50.res\n",
      "C:\\Users\\eawer\\Downloads\\C40-20240503T164200Z-001\\C40\\F\\a=0.1615\\avgflux.x50.res\n",
      "C:\\Users\\eawer\\Downloads\\C40-20240503T164200Z-001\\C40\\F\\a=0.1593\\avgflux.x50.res\n",
      "C:\\Users\\eawer\\Downloads\\C40-20240503T164200Z-001\\C40\\F\\a=0.1590\\avgflux.x50.res\n",
      "C:\\Users\\eawer\\Downloads\\C40-20240503T164200Z-001\\C40\\F\\a=0.1588\\avgflux.x50.res\n"
     ]
    }
   ],
   "source": [
    "all_dataframes = []\n",
    "directory = r'C:\\Users\\eawer\\Downloads\\C40-20240503T164200Z-001\\C40'\n",
    "target_files = [\"a=0.1644\", \"a=0.1615\", \"a=0.1593\", \"a=0.1590\", \"a=0.1588\"]\n",
    "res_file = \"avgflux.x50.res\"\n",
    "\n",
    "for subdir in os.listdir(directory):\n",
    "    subdir_path = os.path.join(directory, subdir)\n",
    "    if os.path.isdir(subdir_path):\n",
    "        for file_name in target_files:\n",
    "            file_path = os.path.join(subdir_path, file_name, res_file)\n",
    "            print(file_path)\n",
    "            if os.path.isfile(file_path):\n",
    "                df = pd.read_csv(file_path, delimiter=' ') \n",
    "                all_dataframes.append(df)\n",
    "\n",
    "combined_df = pd.concat(all_dataframes, ignore_index=True)\n"
   ]
  },
  {
   "cell_type": "code",
   "execution_count": 37,
   "id": "a3e07b7c",
   "metadata": {},
   "outputs": [
    {
     "name": "stdout",
     "output_type": "stream",
     "text": [
      "      tau  length  km_per_s\n",
      "0  0.2083  6580.0       NaN\n",
      "1  0.1903  6690.0       NaN\n",
      "2  0.2659  6690.0       NaN\n",
      "3  0.1518  6780.0       NaN\n",
      "4  0.1686  6770.0       NaN\n"
     ]
    }
   ],
   "source": [
    "first = combined_df\n",
    "first.rename(columns={'#': 'tau', '<tau>': 'length', 'length[km/s]': 'km_per_s'}, inplace=True)\n",
    "print(first.head())\n",
    "first.drop(columns=['km_per_s'],inplace=True)"
   ]
  },
  {
   "cell_type": "code",
   "execution_count": 38,
   "id": "87aeb674",
   "metadata": {},
   "outputs": [
    {
     "data": {
      "text/html": [
       "<div>\n",
       "<style scoped>\n",
       "    .dataframe tbody tr th:only-of-type {\n",
       "        vertical-align: middle;\n",
       "    }\n",
       "\n",
       "    .dataframe tbody tr th {\n",
       "        vertical-align: top;\n",
       "    }\n",
       "\n",
       "    .dataframe thead th {\n",
       "        text-align: right;\n",
       "    }\n",
       "</style>\n",
       "<table border=\"1\" class=\"dataframe\">\n",
       "  <thead>\n",
       "    <tr style=\"text-align: right;\">\n",
       "      <th></th>\n",
       "      <th>tau</th>\n",
       "      <th>length</th>\n",
       "    </tr>\n",
       "  </thead>\n",
       "  <tbody>\n",
       "    <tr>\n",
       "      <th>0</th>\n",
       "      <td>0.20830</td>\n",
       "      <td>6580.0</td>\n",
       "    </tr>\n",
       "    <tr>\n",
       "      <th>1</th>\n",
       "      <td>0.19030</td>\n",
       "      <td>6690.0</td>\n",
       "    </tr>\n",
       "    <tr>\n",
       "      <th>2</th>\n",
       "      <td>0.26590</td>\n",
       "      <td>6690.0</td>\n",
       "    </tr>\n",
       "    <tr>\n",
       "      <th>3</th>\n",
       "      <td>0.15180</td>\n",
       "      <td>6780.0</td>\n",
       "    </tr>\n",
       "    <tr>\n",
       "      <th>4</th>\n",
       "      <td>0.16860</td>\n",
       "      <td>6770.0</td>\n",
       "    </tr>\n",
       "    <tr>\n",
       "      <th>...</th>\n",
       "      <td>...</td>\n",
       "      <td>...</td>\n",
       "    </tr>\n",
       "    <tr>\n",
       "      <th>5995</th>\n",
       "      <td>0.09114</td>\n",
       "      <td>6900.0</td>\n",
       "    </tr>\n",
       "    <tr>\n",
       "      <th>5996</th>\n",
       "      <td>0.13580</td>\n",
       "      <td>6970.0</td>\n",
       "    </tr>\n",
       "    <tr>\n",
       "      <th>5997</th>\n",
       "      <td>0.05196</td>\n",
       "      <td>6950.0</td>\n",
       "    </tr>\n",
       "    <tr>\n",
       "      <th>5998</th>\n",
       "      <td>0.07909</td>\n",
       "      <td>6690.0</td>\n",
       "    </tr>\n",
       "    <tr>\n",
       "      <th>5999</th>\n",
       "      <td>0.06845</td>\n",
       "      <td>6800.0</td>\n",
       "    </tr>\n",
       "  </tbody>\n",
       "</table>\n",
       "<p>6000 rows × 2 columns</p>\n",
       "</div>"
      ],
      "text/plain": [
       "          tau  length\n",
       "0     0.20830  6580.0\n",
       "1     0.19030  6690.0\n",
       "2     0.26590  6690.0\n",
       "3     0.15180  6780.0\n",
       "4     0.16860  6770.0\n",
       "...       ...     ...\n",
       "5995  0.09114  6900.0\n",
       "5996  0.13580  6970.0\n",
       "5997  0.05196  6950.0\n",
       "5998  0.07909  6690.0\n",
       "5999  0.06845  6800.0\n",
       "\n",
       "[6000 rows x 2 columns]"
      ]
     },
     "execution_count": 38,
     "metadata": {},
     "output_type": "execute_result"
    }
   ],
   "source": [
    "first"
   ]
  },
  {
   "cell_type": "code",
   "execution_count": 39,
   "id": "b30ab89a",
   "metadata": {},
   "outputs": [],
   "source": [
    "all_dataframes = []\n",
    "directory = r'C:\\Users\\eawer\\Downloads\\C40-20240503T164200Z-001\\C40'\n",
    "target_files = [\"a=0.1566\", \"a=0.1544\",\"a=0.1570\",\"a=0.1563\",\"a=0.1545\",\"a=0.1569\",\"a=0.1539\"]\n",
    "res_file = \"avgflux.x50.res\"\n",
    "\n",
    "for subdir in os.listdir(directory):\n",
    "    subdir_path = os.path.join(directory, subdir)\n",
    "    if os.path.isdir(subdir_path):\n",
    "        for file_name in target_files:\n",
    "            file_path = os.path.join(subdir_path, file_name, res_file)\n",
    "            if os.path.isfile(file_path):\n",
    "                df = pd.read_csv(file_path, delimiter=' ') \n",
    "                all_dataframes.append(df)\n",
    "\n",
    "combined_df = pd.concat(all_dataframes, ignore_index=True)\n"
   ]
  },
  {
   "cell_type": "code",
   "execution_count": 40,
   "id": "e64041f5",
   "metadata": {},
   "outputs": [
    {
     "name": "stdout",
     "output_type": "stream",
     "text": [
      "       tau  length  km_per_s\n",
      "0  0.10530  6750.0       NaN\n",
      "1  0.04347  6850.0       NaN\n",
      "2  0.14710  6850.0       NaN\n",
      "3  0.06153  6940.0       NaN\n",
      "4  0.08112  6930.0       NaN\n"
     ]
    }
   ],
   "source": [
    "second = combined_df\n",
    "second.rename(columns={'#': 'tau', '<tau>': 'length', 'length[km/s]': 'km_per_s'}, inplace=True)\n",
    "\n",
    "print(second.head())\n",
    "\n",
    "second.drop(columns=['km_per_s'],inplace=True)"
   ]
  },
  {
   "cell_type": "code",
   "execution_count": 41,
   "id": "3de4fb32",
   "metadata": {},
   "outputs": [],
   "source": [
    "all_dataframes = []\n",
    "directory = r'C:\\Users\\eawer\\Downloads\\C40-20240503T164200Z-001\\C40'\n",
    "target_files = [\"a=0.1515\",\"a=0.1499\",\"a=0.1544\",\"a=0.1518\",\"a=0.1493\",\"a=0.1519\",\"a=0.1494\",\"a=0.1500\"]\n",
    "res_file = \"avgflux.x50.res\"\n",
    "\n",
    "for subdir in os.listdir(directory):\n",
    "    subdir_path = os.path.join(directory, subdir)\n",
    "    if os.path.isdir(subdir_path):\n",
    "        for file_name in target_files:\n",
    "            file_path = os.path.join(subdir_path, file_name, res_file)\n",
    "            if os.path.isfile(file_path):\n",
    "                df = pd.read_csv(file_path, delimiter=' ') \n",
    "                all_dataframes.append(df)\n",
    "\n",
    "combined_df = pd.concat(all_dataframes, ignore_index=True)"
   ]
  },
  {
   "cell_type": "code",
   "execution_count": 42,
   "id": "84037704",
   "metadata": {},
   "outputs": [
    {
     "name": "stdout",
     "output_type": "stream",
     "text": [
      "       tau  length  km_per_s\n",
      "0  0.05776  6860.0       NaN\n",
      "1  0.04545  6960.0       NaN\n",
      "2  0.08852  6960.0       NaN\n",
      "3  0.02650  7050.0       NaN\n",
      "4  0.04219  7050.0       NaN\n"
     ]
    }
   ],
   "source": [
    "third = combined_df\n",
    "third.rename(columns={'#': 'tau', '<tau>': 'length', 'length[km/s]': 'km_per_s'}, inplace=True)\n",
    "\n",
    "print(third.head())\n",
    "third.drop(columns=['km_per_s'],inplace=True)"
   ]
  },
  {
   "cell_type": "code",
   "execution_count": 43,
   "id": "2a27627b",
   "metadata": {},
   "outputs": [],
   "source": [
    "all_dataframes = []\n",
    "directory = r'C:\\Users\\eawer\\Downloads\\C40-20240503T164200Z-001\\C40'\n",
    "target_files = [\"a=0.1476\", \"a=0.1452\",\"a=0.1476\",\"a=0.1452\",\"a=0.1477\",\"a=0.1588\",\"a=0.1453\",\"a=0.1472\"]\n",
    "res_file = \"avgflux.x50.res\"\n",
    "\n",
    "for subdir in os.listdir(directory):\n",
    "    subdir_path = os.path.join(directory, subdir)\n",
    "    if os.path.isdir(subdir_path):\n",
    "        for file_name in target_files:\n",
    "            file_path = os.path.join(subdir_path, file_name, res_file)\n",
    "            if os.path.isfile(file_path):\n",
    "                df = pd.read_csv(file_path, delimiter=' ') \n",
    "                all_dataframes.append(df)\n",
    "\n",
    "combined_df = pd.concat(all_dataframes, ignore_index=True)"
   ]
  },
  {
   "cell_type": "code",
   "execution_count": 44,
   "id": "f249bb23",
   "metadata": {},
   "outputs": [
    {
     "name": "stdout",
     "output_type": "stream",
     "text": [
      "       tau  length  km_per_s\n",
      "0  0.03174  6950.0       NaN\n",
      "1  0.02263  7050.0       NaN\n",
      "2  0.05432  7050.0       NaN\n",
      "3  0.01617  7140.0       NaN\n",
      "4  0.02129  7140.0       NaN\n"
     ]
    }
   ],
   "source": [
    "fourth = combined_df\n",
    "fourth.rename(columns={'#': 'tau', '<tau>': 'length', 'length[km/s]': 'km_per_s'}, inplace=True)\n",
    "\n",
    "print(fourth.head())\n",
    "fourth.drop(columns=['km_per_s'],inplace=True)"
   ]
  },
  {
   "cell_type": "code",
   "execution_count": 45,
   "id": "1b0e874d",
   "metadata": {},
   "outputs": [],
   "source": [
    "all_dataframes = []\n",
    "directory = r'C:\\Users\\eawer\\Downloads\\C40-20240503T164200Z-001\\C40'\n",
    "target_files = [\"a=0.1430\", \"a=0.1400\",\"a=0.1429\",\"a=0.1430\",\"a=0.1405\",\"a=0.1409\",\"a=.1435\"]\n",
    "res_file = \"avgflux.x50.res\"\n",
    "\n",
    "for subdir in os.listdir(directory):\n",
    "    subdir_path = os.path.join(directory, subdir)\n",
    "    if os.path.isdir(subdir_path):\n",
    "        for file_name in target_files:\n",
    "            file_path = os.path.join(subdir_path, file_name, res_file)\n",
    "            if os.path.isfile(file_path):\n",
    "                df = pd.read_csv(file_path, delimiter=' ') \n",
    "                all_dataframes.append(df)\n",
    "\n",
    "combined_df = pd.concat(all_dataframes, ignore_index=True)"
   ]
  },
  {
   "cell_type": "code",
   "execution_count": 46,
   "id": "33c731cb",
   "metadata": {},
   "outputs": [
    {
     "name": "stdout",
     "output_type": "stream",
     "text": [
      "        tau  length  km_per_s\n",
      "0  0.012470  7060.0       NaN\n",
      "1  0.008589  7160.0       NaN\n",
      "2  0.027950  7160.0       NaN\n",
      "3  0.005643  7250.0       NaN\n",
      "4  0.007442  7250.0       NaN\n"
     ]
    }
   ],
   "source": [
    "fifth = combined_df\n",
    "fifth.rename(columns={'#': 'tau', '<tau>': 'length', 'length[km/s]': 'km_per_s'}, inplace=True)\n",
    "\n",
    "print(fifth.head())\n",
    "fifth.drop(columns=['km_per_s'],inplace=True)"
   ]
  },
  {
   "cell_type": "code",
   "execution_count": 47,
   "id": "68a7f21d",
   "metadata": {},
   "outputs": [
    {
     "name": "stdout",
     "output_type": "stream",
     "text": [
      "          tau  probability\n",
      "0     0.20830     0.966667\n",
      "1     0.19030     0.925833\n",
      "2     0.26590     0.998833\n",
      "3     0.15180     0.743167\n",
      "4     0.16860     0.843167\n",
      "...       ...          ...\n",
      "5995  0.09114     0.243667\n",
      "5996  0.13580     0.627167\n",
      "5997  0.05196     0.036167\n",
      "5998  0.07909     0.158333\n",
      "5999  0.06845     0.098667\n",
      "\n",
      "[6000 rows x 2 columns]\n"
     ]
    }
   ],
   "source": [
    "tau_threshold = 40\n",
    "\n",
    "probabilities = []\n",
    "\n",
    "for tau_value in first['tau']:\n",
    "    count_below_threshold = (first['tau'] <= tau_value).sum()\n",
    "#sort and discertize tau by min through max in ~100 bins, count number of things\n",
    "#below each bin, 100 data points in each curve at the end\n",
    "    probability = count_below_threshold / len(first)\n",
    "    \n",
    "    probabilities.append(probability)\n",
    "\n",
    "\n",
    "first_prob = pd.DataFrame({\n",
    "    'tau': first['tau'],\n",
    "    'probability': probabilities\n",
    "})\n",
    "\n",
    "print(first_prob)\n"
   ]
  },
  {
   "cell_type": "code",
   "execution_count": 53,
   "id": "b2ebb970",
   "metadata": {},
   "outputs": [],
   "source": [
    "hist, bins = np.histogram(first['tau'], bins=100)\n",
    "cumulative_counts = np.cumsum(hist)\n",
    "prob = cumulative_counts/len(first)\n",
    "first_prob = pd.DataFrame({\n",
    "    'tau': bins[:-1],\n",
    "    'probability':prob\n",
    "})"
   ]
  },
  {
   "cell_type": "code",
   "execution_count": 55,
   "id": "67a86754",
   "metadata": {},
   "outputs": [],
   "source": [
    "hist, bins = np.histogram(second['tau'], bins=100)\n",
    "cumulative_counts = np.cumsum(hist)\n",
    "prob = cumulative_counts/len(second)\n",
    "second_prob = pd.DataFrame({\n",
    "    'tau': bins[:-1],\n",
    "    'probability':prob\n",
    "})"
   ]
  },
  {
   "cell_type": "code",
   "execution_count": 56,
   "id": "5be1e604",
   "metadata": {},
   "outputs": [],
   "source": [
    "hist, bins = np.histogram(third['tau'], bins=100)\n",
    "cumulative_counts = np.cumsum(hist)\n",
    "prob = cumulative_counts/len(third)\n",
    "third_prob = pd.DataFrame({\n",
    "    'tau': bins[:-1],\n",
    "    'probability':prob\n",
    "})"
   ]
  },
  {
   "cell_type": "code",
   "execution_count": 57,
   "id": "2b5c850a",
   "metadata": {},
   "outputs": [],
   "source": [
    "hist, bins = np.histogram(fourth['tau'], bins=100)\n",
    "cumulative_counts = np.cumsum(hist)\n",
    "prob = cumulative_counts/len(fourth)\n",
    "fourth_prob = pd.DataFrame({\n",
    "    'tau': bins[:-1],\n",
    "    'probability':prob\n",
    "})"
   ]
  },
  {
   "cell_type": "code",
   "execution_count": 58,
   "id": "b9d4c039",
   "metadata": {},
   "outputs": [],
   "source": [
    "hist, bins = np.histogram(fifth['tau'], bins=100)\n",
    "cumulative_counts = np.cumsum(hist)\n",
    "prob = cumulative_counts/len(fifth)\n",
    "fifth_prob = pd.DataFrame({\n",
    "    'tau': bins[:-1],\n",
    "    'probability':prob\n",
    "})"
   ]
  },
  {
   "cell_type": "code",
   "execution_count": 48,
   "id": "bc164fbb",
   "metadata": {},
   "outputs": [],
   "source": [
    "tau_threshold = 40\n",
    "\n",
    "probabilities = []\n",
    "\n",
    "# Iterate over each tau value in the original DataFrame\n",
    "for tau_value in second['tau']:\n",
    "    # Count of tau values <= tau_threshold\n",
    "    count_below_threshold = (second['tau'] <= tau_value).sum()\n",
    "\n",
    "    # Probability calculation\n",
    "    probability = count_below_threshold / len(second)\n",
    "    \n",
    "    # Append the probability to the list\n",
    "    probabilities.append(probability)\n",
    "\n",
    "# Create a new DataFrame with tau values and their corresponding probabilities\n",
    "second_prob = pd.DataFrame({\n",
    "    'tau': second['tau'],\n",
    "    'probability': probabilities\n",
    "})"
   ]
  },
  {
   "cell_type": "code",
   "execution_count": 49,
   "id": "29ec94d1",
   "metadata": {},
   "outputs": [],
   "source": [
    "tau_threshold = 40\n",
    "\n",
    "probabilities = []\n",
    "\n",
    "# Iterate over each tau value in the original DataFrame\n",
    "for tau_value in third['tau']:\n",
    "    # Count of tau values <= tau_threshold\n",
    "    count_below_threshold = (third['tau'] <= tau_value).sum()\n",
    "\n",
    "    # Probability calculation\n",
    "    probability = count_below_threshold / len(third)\n",
    "    \n",
    "    # Append the probability to the list\n",
    "    probabilities.append(probability)\n",
    "\n",
    "# Create a new DataFrame with tau values and their corresponding probabilities\n",
    "third_prob = pd.DataFrame({\n",
    "    'tau': third['tau'],\n",
    "    'probability': probabilities\n",
    "})"
   ]
  },
  {
   "cell_type": "code",
   "execution_count": 50,
   "id": "3cf11501",
   "metadata": {},
   "outputs": [],
   "source": [
    "tau_threshold = 40\n",
    "\n",
    "probabilities = []\n",
    "\n",
    "# Iterate over each tau value in the original DataFrame\n",
    "for tau_value in fourth['tau']:\n",
    "    # Count of tau values <= tau_threshold\n",
    "    count_below_threshold = (fourth['tau'] <= tau_value).sum()\n",
    "\n",
    "    # Probability calculation\n",
    "    probability = count_below_threshold / len(fourth)\n",
    "    \n",
    "    # Append the probability to the list\n",
    "    probabilities.append(probability)\n",
    "\n",
    "# Create a new DataFrame with tau values and their corresponding probabilities\n",
    "fourth_prob = pd.DataFrame({\n",
    "    'tau': fourth['tau'],\n",
    "    'probability': probabilities\n",
    "})"
   ]
  },
  {
   "cell_type": "code",
   "execution_count": 51,
   "id": "e8a52c24",
   "metadata": {},
   "outputs": [],
   "source": [
    "tau_threshold = 40\n",
    "\n",
    "probabilities = []\n",
    "\n",
    "# Iterate over each tau value in the original DataFrame\n",
    "for tau_value in fifth['tau']:\n",
    "    # Count of tau values <= tau_threshold\n",
    "    count_below_threshold = (fifth['tau'] <= tau_value).sum()\n",
    "\n",
    "    # Probability calculation\n",
    "    probability = count_below_threshold / len(fifth)\n",
    "    \n",
    "    # Append the probability to the list\n",
    "    probabilities.append(probability)\n",
    "\n",
    "# Create a new DataFrame with tau values and their corresponding probabilities\n",
    "fifth_prob = pd.DataFrame({\n",
    "    'tau': fifth['tau'],\n",
    "    'probability': probabilities\n",
    "})"
   ]
  },
  {
   "cell_type": "code",
   "execution_count": 62,
   "id": "d992a3bd",
   "metadata": {},
   "outputs": [
    {
     "data": {
      "text/plain": [
       "Text(0, 0.5, 'tau probability')"
      ]
     },
     "execution_count": 62,
     "metadata": {},
     "output_type": "execute_result"
    },
    {
     "data": {
      "image/png": "[encoded data removed]",
      "text/plain": [
       "<Figure size 1000x500 with 1 Axes>"
      ]
     },
     "metadata": {},
     "output_type": "display_data"
    }
   ],
   "source": [
    "plt.figure(figsize=[10,5])\n",
    "plt.scatter(first_prob['tau']*15,first_prob['probability'],label=('5.1 < z < 5.3'),linestyle = 'dashed')\n",
    "plt.scatter(second_prob['tau']*15,second_prob['probability'],label=('5.3 < z < 5.5'))\n",
    "plt.scatter(third_prob['tau']*15,third_prob['probability'],label=('5.5 < z < 5.7'))\n",
    "plt.scatter(fourth_prob['tau']*15,fourth_prob['probability'],label = ('5.7 < z < 5.9'))\n",
    "plt.scatter(fifth_prob['tau']*15,fifth_prob['probability'],label = ('5.9 < z < 6.1'))\n",
    "plt.legend()\n",
    "plt.title('40h^-1 MPh')\n",
    "plt.xlabel('tau')\n",
    "plt.ylabel('tau probability')\n",
    "#(1+z)^x\n",
    "#subscript on x-axis should now be 50"
   ]
  },
  {
   "cell_type": "code",
   "execution_count": null,
   "id": "ddb8d81b",
   "metadata": {},
   "outputs": [],
   "source": [
    "#C80\n",
    "#5.1 - 5.3:a=.1616, a=.1594, a=.1620, a=.1594, a=.1620,  (one_three)\n",
    "#5.3 - 5.5: a=.1541, a=.1569,a=.1587,a=.1569, a=.1544, a=.1569,   (three_five)\n",
    "#5.5 - 5.7: a=.1497, a=.1523, a=.1499, a=.1518, a=.1538, a= .1497, a=.1521,  (five_seven)\n",
    "#5.7- 5.9: a = .1455, a=.1472, a=.1451, a=.1479, a=.1452, a=.1474,   (seven_nine)\n",
    "#5.9 - 6.1: a=.1409, a=.1428, a=.1433, a=.1430,  (nine_one)"
   ]
  },
  {
   "cell_type": "code",
   "execution_count": 6,
   "id": "400632c7",
   "metadata": {},
   "outputs": [
    {
     "name": "stdout",
     "output_type": "stream",
     "text": [
      "C:\\Users\\eawer\\Downloads\\C80-20240512T195631Z-001/C80\\A\\a=0.1616\\avgflux.x50.res\n",
      "C:\\Users\\eawer\\Downloads\\C80-20240512T195631Z-001/C80\\A\\a=0.1594\\avgflux.x50.res\n",
      "C:\\Users\\eawer\\Downloads\\C80-20240512T195631Z-001/C80\\A\\a=0.1620\\avgflux.x50.res\n",
      "C:\\Users\\eawer\\Downloads\\C80-20240512T195631Z-001/C80\\A\\a=0.1594\\avgflux.x50.res\n",
      "C:\\Users\\eawer\\Downloads\\C80-20240512T195631Z-001/C80\\A\\a=0.1620\\avgflux.x50.res\n",
      "C:\\Users\\eawer\\Downloads\\C80-20240512T195631Z-001/C80\\B\\a=0.1616\\avgflux.x50.res\n",
      "C:\\Users\\eawer\\Downloads\\C80-20240512T195631Z-001/C80\\B\\a=0.1594\\avgflux.x50.res\n",
      "C:\\Users\\eawer\\Downloads\\C80-20240512T195631Z-001/C80\\B\\a=0.1620\\avgflux.x50.res\n",
      "C:\\Users\\eawer\\Downloads\\C80-20240512T195631Z-001/C80\\B\\a=0.1594\\avgflux.x50.res\n",
      "C:\\Users\\eawer\\Downloads\\C80-20240512T195631Z-001/C80\\B\\a=0.1620\\avgflux.x50.res\n",
      "C:\\Users\\eawer\\Downloads\\C80-20240512T195631Z-001/C80\\C\\a=0.1616\\avgflux.x50.res\n",
      "C:\\Users\\eawer\\Downloads\\C80-20240512T195631Z-001/C80\\C\\a=0.1594\\avgflux.x50.res\n",
      "C:\\Users\\eawer\\Downloads\\C80-20240512T195631Z-001/C80\\C\\a=0.1620\\avgflux.x50.res\n",
      "C:\\Users\\eawer\\Downloads\\C80-20240512T195631Z-001/C80\\C\\a=0.1594\\avgflux.x50.res\n",
      "C:\\Users\\eawer\\Downloads\\C80-20240512T195631Z-001/C80\\C\\a=0.1620\\avgflux.x50.res\n"
     ]
    }
   ],
   "source": [
    "all_dataframes = []\n",
    "directory = r'C:\\Users\\eawer\\Downloads\\C80-20240512T195631Z-001/C80'\n",
    "target_files = [\"a=0.1616\", \"a=0.1594\", \"a=0.1620\", \"a=0.1594\", \"a=0.1620\"]\n",
    "res_file = \"avgflux.x50.res\"\n",
    "\n",
    "for subdir in os.listdir(directory):\n",
    "    subdir_path = os.path.join(directory, subdir)\n",
    "    if os.path.isdir(subdir_path):\n",
    "        for file_name in target_files:\n",
    "            file_path = os.path.join(subdir_path, file_name, res_file)\n",
    "            print(file_path)\n",
    "            if os.path.isfile(file_path):\n",
    "                df = pd.read_csv(file_path, delimiter=' ') \n",
    "                all_dataframes.append(df)\n",
    "\n",
    "combined_df = pd.concat(all_dataframes, ignore_index=True)"
   ]
  },
  {
   "cell_type": "code",
   "execution_count": 9,
   "id": "f0880f0c",
   "metadata": {},
   "outputs": [
    {
     "name": "stdout",
     "output_type": "stream",
     "text": [
      "       tau  length\n",
      "0  0.13100  6760.0\n",
      "1  0.12810  6810.0\n",
      "2  0.17560  6680.0\n",
      "3  0.09589  6710.0\n",
      "4  0.14210  6870.0\n"
     ]
    },
    {
     "ename": "KeyError",
     "evalue": "\"['km_per_s'] not found in axis\"",
     "output_type": "error",
     "traceback": [
      "\u001b[1;31m---------------------------------------------------------------------------\u001b[0m",
      "\u001b[1;31mKeyError\u001b[0m                                  Traceback (most recent call last)",
      "\u001b[1;32m~\\AppData\\Local\\Temp\\ipykernel_30136\\2229900214.py\u001b[0m in \u001b[0;36m<module>\u001b[1;34m\u001b[0m\n\u001b[0;32m      2\u001b[0m \u001b[0mone_three\u001b[0m\u001b[1;33m.\u001b[0m\u001b[0mrename\u001b[0m\u001b[1;33m(\u001b[0m\u001b[0mcolumns\u001b[0m\u001b[1;33m=\u001b[0m\u001b[1;33m{\u001b[0m\u001b[1;34m'#'\u001b[0m\u001b[1;33m:\u001b[0m \u001b[1;34m'tau'\u001b[0m\u001b[1;33m,\u001b[0m \u001b[1;34m'<tau>'\u001b[0m\u001b[1;33m:\u001b[0m \u001b[1;34m'length'\u001b[0m\u001b[1;33m,\u001b[0m \u001b[1;34m'length[km/s]'\u001b[0m\u001b[1;33m:\u001b[0m \u001b[1;34m'km_per_s'\u001b[0m\u001b[1;33m}\u001b[0m\u001b[1;33m,\u001b[0m \u001b[0minplace\u001b[0m\u001b[1;33m=\u001b[0m\u001b[1;32mTrue\u001b[0m\u001b[1;33m)\u001b[0m\u001b[1;33m\u001b[0m\u001b[1;33m\u001b[0m\u001b[0m\n\u001b[0;32m      3\u001b[0m \u001b[0mprint\u001b[0m\u001b[1;33m(\u001b[0m\u001b[0mone_three\u001b[0m\u001b[1;33m.\u001b[0m\u001b[0mhead\u001b[0m\u001b[1;33m(\u001b[0m\u001b[1;33m)\u001b[0m\u001b[1;33m)\u001b[0m\u001b[1;33m\u001b[0m\u001b[1;33m\u001b[0m\u001b[0m\n\u001b[1;32m----> 4\u001b[1;33m \u001b[0mone_three\u001b[0m\u001b[1;33m.\u001b[0m\u001b[0mdrop\u001b[0m\u001b[1;33m(\u001b[0m\u001b[0mcolumns\u001b[0m\u001b[1;33m=\u001b[0m\u001b[1;33m[\u001b[0m\u001b[1;34m'km_per_s'\u001b[0m\u001b[1;33m]\u001b[0m\u001b[1;33m,\u001b[0m\u001b[0minplace\u001b[0m\u001b[1;33m=\u001b[0m\u001b[1;32mTrue\u001b[0m\u001b[1;33m)\u001b[0m\u001b[1;33m\u001b[0m\u001b[1;33m\u001b[0m\u001b[0m\n\u001b[0m\u001b[0;32m      5\u001b[0m \u001b[0mone_three\u001b[0m\u001b[1;33m.\u001b[0m\u001b[0mdrop\u001b[0m\u001b[1;33m(\u001b[0m\u001b[0mcolumns\u001b[0m\u001b[1;33m=\u001b[0m\u001b[1;33m[\u001b[0m\u001b[1;34m'length'\u001b[0m\u001b[1;33m]\u001b[0m\u001b[1;33m,\u001b[0m\u001b[0minplace\u001b[0m\u001b[1;33m=\u001b[0m\u001b[1;32mTrue\u001b[0m\u001b[1;33m)\u001b[0m\u001b[1;33m\u001b[0m\u001b[1;33m\u001b[0m\u001b[0m\n",
      "\u001b[1;32m~\\anaconda3\\lib\\site-packages\\pandas\\util\\_decorators.py\u001b[0m in \u001b[0;36mwrapper\u001b[1;34m(*args, **kwargs)\u001b[0m\n\u001b[0;32m    309\u001b[0m                     \u001b[0mstacklevel\u001b[0m\u001b[1;33m=\u001b[0m\u001b[0mstacklevel\u001b[0m\u001b[1;33m,\u001b[0m\u001b[1;33m\u001b[0m\u001b[1;33m\u001b[0m\u001b[0m\n\u001b[0;32m    310\u001b[0m                 )\n\u001b[1;32m--> 311\u001b[1;33m             \u001b[1;32mreturn\u001b[0m \u001b[0mfunc\u001b[0m\u001b[1;33m(\u001b[0m\u001b[1;33m*\u001b[0m\u001b[0margs\u001b[0m\u001b[1;33m,\u001b[0m \u001b[1;33m**\u001b[0m\u001b[0mkwargs\u001b[0m\u001b[1;33m)\u001b[0m\u001b[1;33m\u001b[0m\u001b[1;33m\u001b[0m\u001b[0m\n\u001b[0m\u001b[0;32m    312\u001b[0m \u001b[1;33m\u001b[0m\u001b[0m\n\u001b[0;32m    313\u001b[0m         \u001b[1;32mreturn\u001b[0m \u001b[0mwrapper\u001b[0m\u001b[1;33m\u001b[0m\u001b[1;33m\u001b[0m\u001b[0m\n",
      "\u001b[1;32m~\\anaconda3\\lib\\site-packages\\pandas\\core\\frame.py\u001b[0m in \u001b[0;36mdrop\u001b[1;34m(self, labels, axis, index, columns, level, inplace, errors)\u001b[0m\n\u001b[0;32m   4955\u001b[0m                 \u001b[0mweight\u001b[0m  \u001b[1;36m1.0\u001b[0m     \u001b[1;36m0.8\u001b[0m\u001b[1;33m\u001b[0m\u001b[1;33m\u001b[0m\u001b[0m\n\u001b[0;32m   4956\u001b[0m         \"\"\"\n\u001b[1;32m-> 4957\u001b[1;33m         return super().drop(\n\u001b[0m\u001b[0;32m   4958\u001b[0m             \u001b[0mlabels\u001b[0m\u001b[1;33m=\u001b[0m\u001b[0mlabels\u001b[0m\u001b[1;33m,\u001b[0m\u001b[1;33m\u001b[0m\u001b[1;33m\u001b[0m\u001b[0m\n\u001b[0;32m   4959\u001b[0m             \u001b[0maxis\u001b[0m\u001b[1;33m=\u001b[0m\u001b[0maxis\u001b[0m\u001b[1;33m,\u001b[0m\u001b[1;33m\u001b[0m\u001b[1;33m\u001b[0m\u001b[0m\n",
      "\u001b[1;32m~\\anaconda3\\lib\\site-packages\\pandas\\core\\generic.py\u001b[0m in \u001b[0;36mdrop\u001b[1;34m(self, labels, axis, index, columns, level, inplace, errors)\u001b[0m\n\u001b[0;32m   4265\u001b[0m         \u001b[1;32mfor\u001b[0m \u001b[0maxis\u001b[0m\u001b[1;33m,\u001b[0m \u001b[0mlabels\u001b[0m \u001b[1;32min\u001b[0m \u001b[0maxes\u001b[0m\u001b[1;33m.\u001b[0m\u001b[0mitems\u001b[0m\u001b[1;33m(\u001b[0m\u001b[1;33m)\u001b[0m\u001b[1;33m:\u001b[0m\u001b[1;33m\u001b[0m\u001b[1;33m\u001b[0m\u001b[0m\n\u001b[0;32m   4266\u001b[0m             \u001b[1;32mif\u001b[0m \u001b[0mlabels\u001b[0m \u001b[1;32mis\u001b[0m \u001b[1;32mnot\u001b[0m \u001b[1;32mNone\u001b[0m\u001b[1;33m:\u001b[0m\u001b[1;33m\u001b[0m\u001b[1;33m\u001b[0m\u001b[0m\n\u001b[1;32m-> 4267\u001b[1;33m                 \u001b[0mobj\u001b[0m \u001b[1;33m=\u001b[0m \u001b[0mobj\u001b[0m\u001b[1;33m.\u001b[0m\u001b[0m_drop_axis\u001b[0m\u001b[1;33m(\u001b[0m\u001b[0mlabels\u001b[0m\u001b[1;33m,\u001b[0m \u001b[0maxis\u001b[0m\u001b[1;33m,\u001b[0m \u001b[0mlevel\u001b[0m\u001b[1;33m=\u001b[0m\u001b[0mlevel\u001b[0m\u001b[1;33m,\u001b[0m \u001b[0merrors\u001b[0m\u001b[1;33m=\u001b[0m\u001b[0merrors\u001b[0m\u001b[1;33m)\u001b[0m\u001b[1;33m\u001b[0m\u001b[1;33m\u001b[0m\u001b[0m\n\u001b[0m\u001b[0;32m   4268\u001b[0m \u001b[1;33m\u001b[0m\u001b[0m\n\u001b[0;32m   4269\u001b[0m         \u001b[1;32mif\u001b[0m \u001b[0minplace\u001b[0m\u001b[1;33m:\u001b[0m\u001b[1;33m\u001b[0m\u001b[1;33m\u001b[0m\u001b[0m\n",
      "\u001b[1;32m~\\anaconda3\\lib\\site-packages\\pandas\\core\\generic.py\u001b[0m in \u001b[0;36m_drop_axis\u001b[1;34m(self, labels, axis, level, errors, consolidate, only_slice)\u001b[0m\n\u001b[0;32m   4309\u001b[0m                 \u001b[0mnew_axis\u001b[0m \u001b[1;33m=\u001b[0m \u001b[0maxis\u001b[0m\u001b[1;33m.\u001b[0m\u001b[0mdrop\u001b[0m\u001b[1;33m(\u001b[0m\u001b[0mlabels\u001b[0m\u001b[1;33m,\u001b[0m \u001b[0mlevel\u001b[0m\u001b[1;33m=\u001b[0m\u001b[0mlevel\u001b[0m\u001b[1;33m,\u001b[0m \u001b[0merrors\u001b[0m\u001b[1;33m=\u001b[0m\u001b[0merrors\u001b[0m\u001b[1;33m)\u001b[0m\u001b[1;33m\u001b[0m\u001b[1;33m\u001b[0m\u001b[0m\n\u001b[0;32m   4310\u001b[0m             \u001b[1;32melse\u001b[0m\u001b[1;33m:\u001b[0m\u001b[1;33m\u001b[0m\u001b[1;33m\u001b[0m\u001b[0m\n\u001b[1;32m-> 4311\u001b[1;33m                 \u001b[0mnew_axis\u001b[0m \u001b[1;33m=\u001b[0m \u001b[0maxis\u001b[0m\u001b[1;33m.\u001b[0m\u001b[0mdrop\u001b[0m\u001b[1;33m(\u001b[0m\u001b[0mlabels\u001b[0m\u001b[1;33m,\u001b[0m \u001b[0merrors\u001b[0m\u001b[1;33m=\u001b[0m\u001b[0merrors\u001b[0m\u001b[1;33m)\u001b[0m\u001b[1;33m\u001b[0m\u001b[1;33m\u001b[0m\u001b[0m\n\u001b[0m\u001b[0;32m   4312\u001b[0m             \u001b[0mindexer\u001b[0m \u001b[1;33m=\u001b[0m \u001b[0maxis\u001b[0m\u001b[1;33m.\u001b[0m\u001b[0mget_indexer\u001b[0m\u001b[1;33m(\u001b[0m\u001b[0mnew_axis\u001b[0m\u001b[1;33m)\u001b[0m\u001b[1;33m\u001b[0m\u001b[1;33m\u001b[0m\u001b[0m\n\u001b[0;32m   4313\u001b[0m \u001b[1;33m\u001b[0m\u001b[0m\n",
      "\u001b[1;32m~\\anaconda3\\lib\\site-packages\\pandas\\core\\indexes\\base.py\u001b[0m in \u001b[0;36mdrop\u001b[1;34m(self, labels, errors)\u001b[0m\n\u001b[0;32m   6659\u001b[0m         \u001b[1;32mif\u001b[0m \u001b[0mmask\u001b[0m\u001b[1;33m.\u001b[0m\u001b[0many\u001b[0m\u001b[1;33m(\u001b[0m\u001b[1;33m)\u001b[0m\u001b[1;33m:\u001b[0m\u001b[1;33m\u001b[0m\u001b[1;33m\u001b[0m\u001b[0m\n\u001b[0;32m   6660\u001b[0m             \u001b[1;32mif\u001b[0m \u001b[0merrors\u001b[0m \u001b[1;33m!=\u001b[0m \u001b[1;34m\"ignore\"\u001b[0m\u001b[1;33m:\u001b[0m\u001b[1;33m\u001b[0m\u001b[1;33m\u001b[0m\u001b[0m\n\u001b[1;32m-> 6661\u001b[1;33m                 \u001b[1;32mraise\u001b[0m \u001b[0mKeyError\u001b[0m\u001b[1;33m(\u001b[0m\u001b[1;34mf\"{list(labels[mask])} not found in axis\"\u001b[0m\u001b[1;33m)\u001b[0m\u001b[1;33m\u001b[0m\u001b[1;33m\u001b[0m\u001b[0m\n\u001b[0m\u001b[0;32m   6662\u001b[0m             \u001b[0mindexer\u001b[0m \u001b[1;33m=\u001b[0m \u001b[0mindexer\u001b[0m\u001b[1;33m[\u001b[0m\u001b[1;33m~\u001b[0m\u001b[0mmask\u001b[0m\u001b[1;33m]\u001b[0m\u001b[1;33m\u001b[0m\u001b[1;33m\u001b[0m\u001b[0m\n\u001b[0;32m   6663\u001b[0m         \u001b[1;32mreturn\u001b[0m \u001b[0mself\u001b[0m\u001b[1;33m.\u001b[0m\u001b[0mdelete\u001b[0m\u001b[1;33m(\u001b[0m\u001b[0mindexer\u001b[0m\u001b[1;33m)\u001b[0m\u001b[1;33m\u001b[0m\u001b[1;33m\u001b[0m\u001b[0m\n",
      "\u001b[1;31mKeyError\u001b[0m: \"['km_per_s'] not found in axis\""
     ]
    }
   ],
   "source": [
    "one_three = combined_df\n",
    "one_three.rename(columns={'#': 'tau', '<tau>': 'length', 'length[km/s]': 'km_per_s'}, inplace=True)\n",
    "print(one_three.head())\n",
    "one_three.drop(columns=['km_per_s'],inplace=True)\n",
    "one_three.drop(columns=['length'],inplace=True)"
   ]
  },
  {
   "cell_type": "code",
   "execution_count": 10,
   "id": "18e87222",
   "metadata": {},
   "outputs": [
    {
     "name": "stdout",
     "output_type": "stream",
     "text": [
      "C:\\Users\\eawer\\Downloads\\C80-20240512T195631Z-001/C80\\A\\a=0.1541\\avgflux.x50.res\n",
      "C:\\Users\\eawer\\Downloads\\C80-20240512T195631Z-001/C80\\A\\a=0.1569\\avgflux.x50.res\n",
      "C:\\Users\\eawer\\Downloads\\C80-20240512T195631Z-001/C80\\A\\a=0.1587\\avgflux.x50.res\n",
      "C:\\Users\\eawer\\Downloads\\C80-20240512T195631Z-001/C80\\A\\a=0.1569\\avgflux.x50.res\n",
      "C:\\Users\\eawer\\Downloads\\C80-20240512T195631Z-001/C80\\A\\a=0.1544\\avgflux.x50.res\n",
      "C:\\Users\\eawer\\Downloads\\C80-20240512T195631Z-001/C80\\A\\a=0.1569\\avgflux.x50.res\n",
      "C:\\Users\\eawer\\Downloads\\C80-20240512T195631Z-001/C80\\B\\a=0.1541\\avgflux.x50.res\n",
      "C:\\Users\\eawer\\Downloads\\C80-20240512T195631Z-001/C80\\B\\a=0.1569\\avgflux.x50.res\n",
      "C:\\Users\\eawer\\Downloads\\C80-20240512T195631Z-001/C80\\B\\a=0.1587\\avgflux.x50.res\n",
      "C:\\Users\\eawer\\Downloads\\C80-20240512T195631Z-001/C80\\B\\a=0.1569\\avgflux.x50.res\n",
      "C:\\Users\\eawer\\Downloads\\C80-20240512T195631Z-001/C80\\B\\a=0.1544\\avgflux.x50.res\n",
      "C:\\Users\\eawer\\Downloads\\C80-20240512T195631Z-001/C80\\B\\a=0.1569\\avgflux.x50.res\n",
      "C:\\Users\\eawer\\Downloads\\C80-20240512T195631Z-001/C80\\C\\a=0.1541\\avgflux.x50.res\n",
      "C:\\Users\\eawer\\Downloads\\C80-20240512T195631Z-001/C80\\C\\a=0.1569\\avgflux.x50.res\n",
      "C:\\Users\\eawer\\Downloads\\C80-20240512T195631Z-001/C80\\C\\a=0.1587\\avgflux.x50.res\n",
      "C:\\Users\\eawer\\Downloads\\C80-20240512T195631Z-001/C80\\C\\a=0.1569\\avgflux.x50.res\n",
      "C:\\Users\\eawer\\Downloads\\C80-20240512T195631Z-001/C80\\C\\a=0.1544\\avgflux.x50.res\n",
      "C:\\Users\\eawer\\Downloads\\C80-20240512T195631Z-001/C80\\C\\a=0.1569\\avgflux.x50.res\n"
     ]
    }
   ],
   "source": [
    "all_dataframes = []\n",
    "directory = r'C:\\Users\\eawer\\Downloads\\C80-20240512T195631Z-001/C80'\n",
    "target_files = [\"a=0.1541\", \"a=0.1569\",\"a=0.1587\",\"a=0.1569\", \"a=0.1544\", \"a=0.1569\"]\n",
    "res_file = \"avgflux.x50.res\"\n",
    "\n",
    "for subdir in os.listdir(directory):\n",
    "    subdir_path = os.path.join(directory, subdir)\n",
    "    if os.path.isdir(subdir_path):\n",
    "        for file_name in target_files:\n",
    "            file_path = os.path.join(subdir_path, file_name, res_file)\n",
    "            print(file_path)\n",
    "            if os.path.isfile(file_path):\n",
    "                df = pd.read_csv(file_path, delimiter=' ') \n",
    "                all_dataframes.append(df)\n",
    "\n",
    "combined_df = pd.concat(all_dataframes, ignore_index=True)"
   ]
  },
  {
   "cell_type": "code",
   "execution_count": 11,
   "id": "80ba8e41",
   "metadata": {},
   "outputs": [
    {
     "name": "stdout",
     "output_type": "stream",
     "text": [
      "       tau  length  km_per_s\n",
      "0  0.05911  6920.0       NaN\n",
      "1  0.06378  6970.0       NaN\n",
      "2  0.08814  6830.0       NaN\n",
      "3  0.04276  6870.0       NaN\n",
      "4  0.05796  7030.0       NaN\n"
     ]
    }
   ],
   "source": [
    "three_five = combined_df\n",
    "three_five.rename(columns={'#': 'tau', '<tau>': 'length', 'length[km/s]': 'km_per_s'}, inplace=True)\n",
    "print(three_five.head())\n",
    "three_five.drop(columns=['km_per_s'],inplace=True)\n",
    "three_five.drop(columns=['length'],inplace=True)"
   ]
  },
  {
   "cell_type": "code",
   "execution_count": 12,
   "id": "d05860be",
   "metadata": {},
   "outputs": [
    {
     "name": "stdout",
     "output_type": "stream",
     "text": [
      "C:\\Users\\eawer\\Downloads\\C80-20240512T195631Z-001/C80\\A\\a=0.1497\\avgflux.x50.res\n",
      "C:\\Users\\eawer\\Downloads\\C80-20240512T195631Z-001/C80\\A\\a=0.1523\\avgflux.x50.res\n",
      "C:\\Users\\eawer\\Downloads\\C80-20240512T195631Z-001/C80\\A\\a=0.1499\\avgflux.x50.res\n",
      "C:\\Users\\eawer\\Downloads\\C80-20240512T195631Z-001/C80\\A\\a=0.1518\\avgflux.x50.res\n",
      "C:\\Users\\eawer\\Downloads\\C80-20240512T195631Z-001/C80\\A\\a=0.1538\\avgflux.x50.res\n",
      "C:\\Users\\eawer\\Downloads\\C80-20240512T195631Z-001/C80\\A\\a=0.1497\\avgflux.x50.res\n",
      "C:\\Users\\eawer\\Downloads\\C80-20240512T195631Z-001/C80\\A\\a=0.1521\\avgflux.x50.res\n",
      "C:\\Users\\eawer\\Downloads\\C80-20240512T195631Z-001/C80\\B\\a=0.1497\\avgflux.x50.res\n",
      "C:\\Users\\eawer\\Downloads\\C80-20240512T195631Z-001/C80\\B\\a=0.1523\\avgflux.x50.res\n",
      "C:\\Users\\eawer\\Downloads\\C80-20240512T195631Z-001/C80\\B\\a=0.1499\\avgflux.x50.res\n",
      "C:\\Users\\eawer\\Downloads\\C80-20240512T195631Z-001/C80\\B\\a=0.1518\\avgflux.x50.res\n",
      "C:\\Users\\eawer\\Downloads\\C80-20240512T195631Z-001/C80\\B\\a=0.1538\\avgflux.x50.res\n",
      "C:\\Users\\eawer\\Downloads\\C80-20240512T195631Z-001/C80\\B\\a=0.1497\\avgflux.x50.res\n",
      "C:\\Users\\eawer\\Downloads\\C80-20240512T195631Z-001/C80\\B\\a=0.1521\\avgflux.x50.res\n",
      "C:\\Users\\eawer\\Downloads\\C80-20240512T195631Z-001/C80\\C\\a=0.1497\\avgflux.x50.res\n",
      "C:\\Users\\eawer\\Downloads\\C80-20240512T195631Z-001/C80\\C\\a=0.1523\\avgflux.x50.res\n",
      "C:\\Users\\eawer\\Downloads\\C80-20240512T195631Z-001/C80\\C\\a=0.1499\\avgflux.x50.res\n",
      "C:\\Users\\eawer\\Downloads\\C80-20240512T195631Z-001/C80\\C\\a=0.1518\\avgflux.x50.res\n",
      "C:\\Users\\eawer\\Downloads\\C80-20240512T195631Z-001/C80\\C\\a=0.1538\\avgflux.x50.res\n",
      "C:\\Users\\eawer\\Downloads\\C80-20240512T195631Z-001/C80\\C\\a=0.1497\\avgflux.x50.res\n",
      "C:\\Users\\eawer\\Downloads\\C80-20240512T195631Z-001/C80\\C\\a=0.1521\\avgflux.x50.res\n"
     ]
    }
   ],
   "source": [
    "all_dataframes = []\n",
    "directory = r'C:\\Users\\eawer\\Downloads\\C80-20240512T195631Z-001/C80'\n",
    "target_files = [\"a=0.1497\", \"a=0.1523\", \"a=0.1499\", \"a=0.1518\", \"a=0.1538\", \"a=0.1497\", \"a=0.1521\"]\n",
    "res_file = \"avgflux.x50.res\"\n",
    "\n",
    "for subdir in os.listdir(directory):\n",
    "    subdir_path = os.path.join(directory, subdir)\n",
    "    if os.path.isdir(subdir_path):\n",
    "        for file_name in target_files:\n",
    "            file_path = os.path.join(subdir_path, file_name, res_file)\n",
    "            print(file_path)\n",
    "            if os.path.isfile(file_path):\n",
    "                df = pd.read_csv(file_path, delimiter=' ') \n",
    "                all_dataframes.append(df)\n",
    "\n",
    "combined_df = pd.concat(all_dataframes, ignore_index=True)"
   ]
  },
  {
   "cell_type": "code",
   "execution_count": 13,
   "id": "17d4047c",
   "metadata": {},
   "outputs": [
    {
     "name": "stdout",
     "output_type": "stream",
     "text": [
      "       tau  length  km_per_s\n",
      "0  0.03184  7020.0       NaN\n",
      "1  0.03582  7070.0       NaN\n",
      "2  0.04951  6930.0       NaN\n",
      "3  0.02160  6970.0       NaN\n",
      "4  0.02710  7130.0       NaN\n"
     ]
    }
   ],
   "source": [
    "five_seven = combined_df\n",
    "five_seven.rename(columns={'#': 'tau', '<tau>': 'length', 'length[km/s]': 'km_per_s'}, inplace=True)\n",
    "print(five_seven.head())\n",
    "five_seven.drop(columns=['km_per_s'],inplace=True)\n",
    "five_seven.drop(columns=['length'],inplace=True)"
   ]
  },
  {
   "cell_type": "code",
   "execution_count": 14,
   "id": "888cd137",
   "metadata": {},
   "outputs": [
    {
     "name": "stdout",
     "output_type": "stream",
     "text": [
      "C:\\Users\\eawer\\Downloads\\C80-20240512T195631Z-001/C80\\A\\a=0.1455\\avgflux.x50.res\n",
      "C:\\Users\\eawer\\Downloads\\C80-20240512T195631Z-001/C80\\A\\a=0.1472\\avgflux.x50.res\n",
      "C:\\Users\\eawer\\Downloads\\C80-20240512T195631Z-001/C80\\A\\a=0.1451\\avgflux.x50.res\n",
      "C:\\Users\\eawer\\Downloads\\C80-20240512T195631Z-001/C80\\A\\a=0.1479\\avgflux.x50.res\n",
      "C:\\Users\\eawer\\Downloads\\C80-20240512T195631Z-001/C80\\A\\a=0.1452\\avgflux.x50.res\n",
      "C:\\Users\\eawer\\Downloads\\C80-20240512T195631Z-001/C80\\A\\a=0.1474\\avgflux.x50.res\n",
      "C:\\Users\\eawer\\Downloads\\C80-20240512T195631Z-001/C80\\B\\a=0.1455\\avgflux.x50.res\n",
      "C:\\Users\\eawer\\Downloads\\C80-20240512T195631Z-001/C80\\B\\a=0.1472\\avgflux.x50.res\n",
      "C:\\Users\\eawer\\Downloads\\C80-20240512T195631Z-001/C80\\B\\a=0.1451\\avgflux.x50.res\n",
      "C:\\Users\\eawer\\Downloads\\C80-20240512T195631Z-001/C80\\B\\a=0.1479\\avgflux.x50.res\n",
      "C:\\Users\\eawer\\Downloads\\C80-20240512T195631Z-001/C80\\B\\a=0.1452\\avgflux.x50.res\n",
      "C:\\Users\\eawer\\Downloads\\C80-20240512T195631Z-001/C80\\B\\a=0.1474\\avgflux.x50.res\n",
      "C:\\Users\\eawer\\Downloads\\C80-20240512T195631Z-001/C80\\C\\a=0.1455\\avgflux.x50.res\n",
      "C:\\Users\\eawer\\Downloads\\C80-20240512T195631Z-001/C80\\C\\a=0.1472\\avgflux.x50.res\n",
      "C:\\Users\\eawer\\Downloads\\C80-20240512T195631Z-001/C80\\C\\a=0.1451\\avgflux.x50.res\n",
      "C:\\Users\\eawer\\Downloads\\C80-20240512T195631Z-001/C80\\C\\a=0.1479\\avgflux.x50.res\n",
      "C:\\Users\\eawer\\Downloads\\C80-20240512T195631Z-001/C80\\C\\a=0.1452\\avgflux.x50.res\n",
      "C:\\Users\\eawer\\Downloads\\C80-20240512T195631Z-001/C80\\C\\a=0.1474\\avgflux.x50.res\n"
     ]
    }
   ],
   "source": [
    "all_dataframes = []\n",
    "directory = r'C:\\Users\\eawer\\Downloads\\C80-20240512T195631Z-001/C80'\n",
    "target_files = [\"a=0.1455\", \"a=0.1472\", \"a=0.1451\", \"a=0.1479\", \"a=0.1452\", \"a=0.1474\"]\n",
    "res_file = \"avgflux.x50.res\"\n",
    "\n",
    "for subdir in os.listdir(directory):\n",
    "    subdir_path = os.path.join(directory, subdir)\n",
    "    if os.path.isdir(subdir_path):\n",
    "        for file_name in target_files:\n",
    "            file_path = os.path.join(subdir_path, file_name, res_file)\n",
    "            print(file_path)\n",
    "            if os.path.isfile(file_path):\n",
    "                df = pd.read_csv(file_path, delimiter=' ') \n",
    "                all_dataframes.append(df)\n",
    "\n",
    "combined_df = pd.concat(all_dataframes, ignore_index=True)"
   ]
  },
  {
   "cell_type": "code",
   "execution_count": 15,
   "id": "4ad83074",
   "metadata": {},
   "outputs": [
    {
     "name": "stdout",
     "output_type": "stream",
     "text": [
      "        tau  length  km_per_s\n",
      "0  0.015740  7120.0       NaN\n",
      "1  0.018410  7170.0       NaN\n",
      "2  0.025480  7040.0       NaN\n",
      "3  0.004017  7070.0       NaN\n",
      "4  0.010740  7230.0       NaN\n"
     ]
    }
   ],
   "source": [
    "seven_nine = combined_df\n",
    "seven_nine.rename(columns={'#': 'tau', '<tau>': 'length', 'length[km/s]': 'km_per_s'}, inplace=True)\n",
    "print(seven_nine.head())\n",
    "seven_nine.drop(columns=['km_per_s'],inplace=True)\n",
    "seven_nine.drop(columns=['length'],inplace=True)"
   ]
  },
  {
   "cell_type": "code",
   "execution_count": 16,
   "id": "01c21646",
   "metadata": {},
   "outputs": [
    {
     "name": "stdout",
     "output_type": "stream",
     "text": [
      "C:\\Users\\eawer\\Downloads\\C80-20240512T195631Z-001/C80\\A\\a=0.1409\\avgflux.x50.res\n",
      "C:\\Users\\eawer\\Downloads\\C80-20240512T195631Z-001/C80\\A\\a=0.1428\\avgflux.x50.res\n",
      "C:\\Users\\eawer\\Downloads\\C80-20240512T195631Z-001/C80\\A\\a=0.1433\\avgflux.x50.res\n",
      "C:\\Users\\eawer\\Downloads\\C80-20240512T195631Z-001/C80\\A\\a=0.1430\\avgflux.x50.res\n",
      "C:\\Users\\eawer\\Downloads\\C80-20240512T195631Z-001/C80\\B\\a=0.1409\\avgflux.x50.res\n",
      "C:\\Users\\eawer\\Downloads\\C80-20240512T195631Z-001/C80\\B\\a=0.1428\\avgflux.x50.res\n",
      "C:\\Users\\eawer\\Downloads\\C80-20240512T195631Z-001/C80\\B\\a=0.1433\\avgflux.x50.res\n",
      "C:\\Users\\eawer\\Downloads\\C80-20240512T195631Z-001/C80\\B\\a=0.1430\\avgflux.x50.res\n",
      "C:\\Users\\eawer\\Downloads\\C80-20240512T195631Z-001/C80\\C\\a=0.1409\\avgflux.x50.res\n",
      "C:\\Users\\eawer\\Downloads\\C80-20240512T195631Z-001/C80\\C\\a=0.1428\\avgflux.x50.res\n",
      "C:\\Users\\eawer\\Downloads\\C80-20240512T195631Z-001/C80\\C\\a=0.1433\\avgflux.x50.res\n",
      "C:\\Users\\eawer\\Downloads\\C80-20240512T195631Z-001/C80\\C\\a=0.1430\\avgflux.x50.res\n"
     ]
    }
   ],
   "source": [
    "all_dataframes = []\n",
    "directory = r'C:\\Users\\eawer\\Downloads\\C80-20240512T195631Z-001/C80'\n",
    "target_files = [\"a=0.1409\", \"a=0.1428\", \"a=0.1433\", \"a=0.1430\"]\n",
    "res_file = \"avgflux.x50.res\"\n",
    "\n",
    "for subdir in os.listdir(directory):\n",
    "    subdir_path = os.path.join(directory, subdir)\n",
    "    if os.path.isdir(subdir_path):\n",
    "        for file_name in target_files:\n",
    "            file_path = os.path.join(subdir_path, file_name, res_file)\n",
    "            print(file_path)\n",
    "            if os.path.isfile(file_path):\n",
    "                df = pd.read_csv(file_path, delimiter=' ') \n",
    "                all_dataframes.append(df)\n",
    "\n",
    "combined_df = pd.concat(all_dataframes, ignore_index=True)"
   ]
  },
  {
   "cell_type": "code",
   "execution_count": 17,
   "id": "a61cce94",
   "metadata": {},
   "outputs": [
    {
     "name": "stdout",
     "output_type": "stream",
     "text": [
      "        tau  length  km_per_s\n",
      "0  0.006434  7230.0       NaN\n",
      "1  0.007817  7280.0       NaN\n",
      "2  0.010320  7150.0       NaN\n",
      "3  0.003778  7180.0       NaN\n",
      "4  0.003252  7340.0       NaN\n"
     ]
    }
   ],
   "source": [
    "nine_one = combined_df\n",
    "nine_one.rename(columns={'#': 'tau', '<tau>': 'length', 'length[km/s]': 'km_per_s'}, inplace=True)\n",
    "print(nine_one.head())\n",
    "nine_one.drop(columns=['km_per_s'],inplace=True)\n",
    "nine_one.drop(columns=['length'],inplace=True)"
   ]
  },
  {
   "cell_type": "code",
   "execution_count": 20,
   "id": "3c61cc3f",
   "metadata": {},
   "outputs": [],
   "source": [
    "hist, bins = np.histogram(one_three['tau'], bins=100)\n",
    "cumulative_counts = np.cumsum(hist)\n",
    "prob = cumulative_counts/len(one_three)\n",
    "one_three_prob = pd.DataFrame({\n",
    "    'tau': bins[:-1],\n",
    "    'probability':prob\n",
    "})"
   ]
  },
  {
   "cell_type": "code",
   "execution_count": 21,
   "id": "0dfc708e",
   "metadata": {},
   "outputs": [],
   "source": [
    "hist, bins = np.histogram(three_five['tau'], bins=100)\n",
    "cumulative_counts = np.cumsum(hist)\n",
    "prob = cumulative_counts/len(three_five)\n",
    "three_five_prob = pd.DataFrame({\n",
    "    'tau': bins[:-1],\n",
    "    'probability':prob\n",
    "})"
   ]
  },
  {
   "cell_type": "code",
   "execution_count": 22,
   "id": "ffd2cbc5",
   "metadata": {},
   "outputs": [],
   "source": [
    "hist, bins = np.histogram(five_seven['tau'], bins=100)\n",
    "cumulative_counts = np.cumsum(hist)\n",
    "prob = cumulative_counts/len(five_seven)\n",
    "five_seven_prob = pd.DataFrame({\n",
    "    'tau': bins[:-1],\n",
    "    'probability':prob\n",
    "})"
   ]
  },
  {
   "cell_type": "code",
   "execution_count": 23,
   "id": "36dbea65",
   "metadata": {},
   "outputs": [],
   "source": [
    "hist, bins = np.histogram(seven_nine['tau'], bins=100)\n",
    "cumulative_counts = np.cumsum(hist)\n",
    "prob = cumulative_counts/len(seven_nine)\n",
    "seven_nine_prob = pd.DataFrame({\n",
    "    'tau': bins[:-1],\n",
    "    'probability':prob\n",
    "})"
   ]
  },
  {
   "cell_type": "code",
   "execution_count": 24,
   "id": "e36d876f",
   "metadata": {},
   "outputs": [],
   "source": [
    "hist, bins = np.histogram(nine_one['tau'], bins=100)\n",
    "cumulative_counts = np.cumsum(hist)\n",
    "prob = cumulative_counts/len(nine_one)\n",
    "nine_one_prob = pd.DataFrame({\n",
    "    'tau': bins[:-1],\n",
    "    'probability':prob\n",
    "})"
   ]
  },
  {
   "cell_type": "code",
   "execution_count": 27,
   "id": "608b3e17",
   "metadata": {},
   "outputs": [
    {
     "data": {
      "text/plain": [
       "Text(0, 0.5, 'tau probability')"
      ]
     },
     "execution_count": 27,
     "metadata": {},
     "output_type": "execute_result"
    },
    {
     "data": {
      "image/png": "[encoded data removed]",
      "text/plain": [
       "<Figure size 1000x500 with 1 Axes>"
      ]
     },
     "metadata": {},
     "output_type": "display_data"
    }
   ],
   "source": [
    "plt.figure(figsize=[10,5])\n",
    "plt.scatter(one_three_prob['tau']*15,one_three_prob['probability'],label=('5.1 < z < 5.3'),linestyle = 'dashed')\n",
    "plt.scatter(three_five_prob['tau']*15,three_five_prob['probability'],label=('5.3 < z < 5.5'))\n",
    "plt.scatter(five_seven_prob['tau']*15,five_seven_prob['probability'],label=('5.5 < z < 5.7'))\n",
    "plt.scatter(seven_nine_prob['tau']*15,seven_nine_prob['probability'],label = ('5.7 < z < 5.9'))\n",
    "plt.scatter(nine_one_prob['tau']*15,nine_one_prob['probability'],label = ('5.9 < z < 6.1'))\n",
    "plt.legend()\n",
    "plt.title('80h^-1 MPh')\n",
    "plt.xlabel('tau')\n",
    "plt.ylabel('tau probability')"
   ]
  },
  {
   "cell_type": "code",
   "execution_count": null,
   "id": "d101ad14",
   "metadata": {},
   "outputs": [],
   "source": []
  }
 ],
 "metadata": {
  "kernelspec": {
   "display_name": "Python 3 (ipykernel)",
   "language": "python",
   "name": "python3"
  },
  "language_info": {
   "codemirror_mode": {
    "name": "ipython",
    "version": 3
   },
   "file_extension": ".py",
   "mimetype": "text/x-python",
   "name": "python",
   "nbconvert_exporter": "python",
   "pygments_lexer": "ipython3",
   "version": "3.9.13"
  }
 },
 "nbformat": 4,
 "nbformat_minor": 5
}
